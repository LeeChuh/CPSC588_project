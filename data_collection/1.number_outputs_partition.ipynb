{
 "cells": [
  {
   "cell_type": "code",
   "execution_count": 1,
   "metadata": {},
   "outputs": [],
   "source": [
    "import json\n",
    "import os\n",
    "from tqdm import tqdm\n",
    "import os\n",
    "import requests\n",
    "import pickle\n",
    "import matplotlib.pyplot as plt\n",
    "import numpy as np"
   ]
  },
  {
   "cell_type": "code",
   "execution_count": 2,
   "metadata": {},
   "outputs": [
    {
     "name": "stdout",
     "output_type": "stream",
     "text": [
      "There are 4087 blocks loaded\n"
     ]
    }
   ],
   "source": [
    "# path of blocks\n",
    "SOURCE_PATH = '../data/txn_data'\n",
    "# SOURCE_PATH = 'testData'\n",
    "# read files \n",
    "block_list = os.listdir(SOURCE_PATH)\n",
    "sorted_block_list = [y for _, y in sorted([(int(a.split('.')[0]), a) for a in block_list])]\n",
    "sorted_block_list = sorted_block_list\n",
    "# print(sorted_block_list[:10])\n",
    "print(f\"There are {len(sorted_block_list)} blocks loaded\")"
   ]
  },
  {
   "cell_type": "code",
   "execution_count": 3,
   "metadata": {},
   "outputs": [],
   "source": [
    "def get_block_txn_list(block_json_file: str) -> dict:\n",
    "    \"\"\"\n",
    "    @input: a block json file, e.g., 1111.json\n",
    "    @output: a list of transaction in that block\n",
    "    \"\"\"\n",
    "    json_path = os.path.join(SOURCE_PATH, block_json_file)\n",
    "    f = open(json_path)\n",
    "    json_data = json.load(f)\n",
    "    tx = json_data['tx']\n",
    "    f.close()\n",
    "    return tx"
   ]
  },
  {
   "attachments": {},
   "cell_type": "markdown",
   "metadata": {},
   "source": [
    "# Put transactions into 4 categories:\n",
    "- Zero Ouputs\n",
    "- One Output\n",
    "- Two Outputs\n",
    "- Multiple Outputs (three or more)"
   ]
  },
  {
   "cell_type": "code",
   "execution_count": 4,
   "metadata": {},
   "outputs": [],
   "source": [
    "# CODES\n",
    "PLACE_HOLDER_CODE = -1\n",
    "ZERO_OUTPUT_CODE = 0\n",
    "ONE_OUTPUT_CODE = 1\n",
    "TWO_OUTPUT_CODE = 2\n",
    "MULTIPLE_OUTPUT_CODE = 3\n"
   ]
  },
  {
   "cell_type": "code",
   "execution_count": 5,
   "metadata": {},
   "outputs": [],
   "source": [
    "def output_count(txn: dict) -> int:\n",
    "    \"\"\"\n",
    "    @input: a txn\n",
    "    @output: number of \"real\" output in that transaction\n",
    "    \"\"\"\n",
    "    output_list = txn['out']\n",
    "    output_count = 0\n",
    "    for output_addr in output_list:\n",
    "        if 'addr' in output_addr:\n",
    "            output_count += 1\n",
    "    return output_count\n"
   ]
  },
  {
   "cell_type": "code",
   "execution_count": 6,
   "metadata": {},
   "outputs": [
    {
     "name": "stderr",
     "output_type": "stream",
     "text": [
      "100%|██████████| 4087/4087 [05:11<00:00, 13.10it/s]\n"
     ]
    },
    {
     "name": "stdout",
     "output_type": "stream",
     "text": [
      "zeoOutput: 209 | oneOutput: 2,234,550 | twoOutput: 5,391,824 | moreThanThreeOutput: 767,973\n"
     ]
    }
   ],
   "source": [
    "transaction_address_summary = {}\n",
    "two_output_address_summary = {}\n",
    "\n",
    "def summarize_transaction_output():\n",
    "    zeroOutput = []                      # store txn address with 0 output\n",
    "    oneOutput = []                       # store txn address with 1 output\n",
    "    twoOutput = []                       # store txn address with 2 output\n",
    "    multipleOutput = []                  # store txn address with 3+ output\n",
    "\n",
    "    global transaction_address_summary\n",
    "    global two_output_address_summary\n",
    "    \n",
    "    for block_json_file in tqdm(sorted_block_list[:]):\n",
    "        # get transaction list of that block\n",
    "        txns_list = get_block_txn_list(block_json_file)\n",
    "        for txn in txns_list:\n",
    "            output_length = output_count(txn)\n",
    "            if output_length == 0:\n",
    "                zeroOutput.append(txn['hash'])\n",
    "                transaction_address_summary[txn['hash']] = ZERO_OUTPUT_CODE\n",
    "            elif output_length == 1:\n",
    "                oneOutput.append(txn['hash'])\n",
    "                transaction_address_summary[txn['hash']] = ONE_OUTPUT_CODE\n",
    "            elif output_length == 2:\n",
    "                twoOutput.append(txn['hash'])\n",
    "                transaction_address_summary[txn['hash']] = TWO_OUTPUT_CODE\n",
    "                two_output_address_summary[txn['hash']] = PLACE_HOLDER_CODE\n",
    "            elif output_length >= 3:\n",
    "                multipleOutput.append(txn['hash'])\n",
    "                transaction_address_summary[txn['hash']] = MULTIPLE_OUTPUT_CODE\n",
    "\n",
    "    print(f\"zeoOutput: {len(zeroOutput)} | oneOutput: {len(oneOutput):,} \\\n",
    "| twoOutput: {len(twoOutput):,} | moreThanThreeOutput: {len(multipleOutput):,}\")\n",
    "\n",
    "summarize_transaction_output()"
   ]
  },
  {
   "cell_type": "code",
   "execution_count": 7,
   "metadata": {},
   "outputs": [],
   "source": [
    "# store two dictionaries\n",
    "\n",
    "with open('../heuristic_data/transaction_address_summary.json', 'w') as f:\n",
    "    json.dump(transaction_address_summary, f)\n",
    "\n",
    "with open('../heuristic_data/two_output_address_summary.json', 'w') as f:\n",
    "    json.dump(two_output_address_summary, f)"
   ]
  },
  {
   "cell_type": "code",
   "execution_count": null,
   "metadata": {},
   "outputs": [],
   "source": []
  }
 ],
 "metadata": {
  "kernelspec": {
   "display_name": "Python 3",
   "language": "python",
   "name": "python3"
  },
  "language_info": {
   "codemirror_mode": {
    "name": "ipython",
    "version": 3
   },
   "file_extension": ".py",
   "mimetype": "text/x-python",
   "name": "python",
   "nbconvert_exporter": "python",
   "pygments_lexer": "ipython3",
   "version": "3.10.5"
  },
  "orig_nbformat": 4
 },
 "nbformat": 4,
 "nbformat_minor": 2
}
